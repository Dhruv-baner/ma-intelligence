{
 "cells": [
  {
   "cell_type": "code",
   "execution_count": 1,
   "id": "0e6121dd",
   "metadata": {},
   "outputs": [],
   "source": [
    "\n",
    "# Web requests and data handling\n",
    "import requests\n",
    "import json\n",
    "import pandas as pd\n",
    "import numpy as np\n",
    "\n",
    "# Date and time utilities\n",
    "from datetime import datetime, timedelta\n",
    "import time\n",
    "\n",
    "# File handling\n",
    "import os\n",
    "import sys\n",
    "\n",
    "# Adding our src directory to Python path so we can import our custom functions later\n",
    "sys.path.append('../src')\n",
    "\n",
    "# Displaying settings for better notebook output\n",
    "pd.set_option('display.max_columns', None)\n",
    "pd.set_option('display.width', None)\n",
    "pd.set_option('display.max_colwidth', 50)\n",
    "\n"
   ]
  },
  {
   "cell_type": "code",
   "execution_count": null,
   "id": "7d299769",
   "metadata": {},
   "outputs": [],
   "source": []
  }
 ],
 "metadata": {
  "kernelspec": {
   "display_name": "base",
   "language": "python",
   "name": "python3"
  },
  "language_info": {
   "codemirror_mode": {
    "name": "ipython",
    "version": 3
   },
   "file_extension": ".py",
   "mimetype": "text/x-python",
   "name": "python",
   "nbconvert_exporter": "python",
   "pygments_lexer": "ipython3",
   "version": "3.12.7"
  }
 },
 "nbformat": 4,
 "nbformat_minor": 5
}
